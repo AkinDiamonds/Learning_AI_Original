{
 "cells": [
  {
   "cell_type": "code",
   "execution_count": null,
   "id": "c0b9e076",
   "metadata": {
    "vscode": {
     "languageId": "plaintext"
    }
   },
   "outputs": [],
   "source": [
    "print(\"hello world, I am learning python\")"
   ]
  },
  {
   "cell_type": "markdown",
   "id": "02fec2d2",
   "metadata": {},
   "source": [
    "print(\"hello world, I am learning python\")"
   ]
  }
 ],
 "metadata": {
  "language_info": {
   "name": "python"
  }
 },
 "nbformat": 4,
 "nbformat_minor": 5
}
